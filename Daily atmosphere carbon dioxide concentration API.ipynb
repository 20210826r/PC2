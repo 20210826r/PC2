{
 "cells": [
  {
   "cell_type": "code",
   "execution_count": 11,
   "metadata": {},
   "outputs": [
    {
     "data": {
      "text/plain": [
       "str"
      ]
     },
     "execution_count": 11,
     "metadata": {},
     "output_type": "execute_result"
    }
   ],
   "source": [
    "import requests\n",
    "\n",
    "url = \"https://daily-atmosphere-carbon-dioxide-concentration.p.rapidapi.com/api/co2-api\"\n",
    "\n",
    "headers = {\n",
    "\t\"X-RapidAPI-Key\": \"5980bde7demsh0f3bb48dde1477cp1c5bcbjsn016489ad3762\",\n",
    "\t\"X-RapidAPI-Host\": \"daily-atmosphere-carbon-dioxide-concentration.p.rapidapi.com\"\n",
    "}\n",
    "\n",
    "response = requests.request(\"GET\", url, headers=headers)\n",
    "\n",
    "#print(response.text)\n",
    "#print(response.json())\n",
    "data=response.text\n",
    "#print(data)\n",
    "type(data)"
   ]
  },
  {
   "cell_type": "code",
   "execution_count": 12,
   "metadata": {},
   "outputs": [],
   "source": [
    "#print(response.json()) #Vemos la data obtenida.\n",
    "test = response.json() #Lo guardamos en la variable test.\n",
    "#print(type(test))\n",
    "keys= test.keys()\n",
    "#print(keys)"
   ]
  },
  {
   "cell_type": "code",
   "execution_count": 13,
   "metadata": {},
   "outputs": [
    {
     "name": "stdout",
     "output_type": "stream",
     "text": [
      "      year month day   cycle   trend\n",
      "0     2013     1  20  395.64  394.41\n",
      "1     2013     1  21  395.67  394.41\n",
      "2     2013     1  22  395.70  394.42\n",
      "3     2013     1  23  395.73  394.43\n",
      "4     2013     1  24  395.75  394.44\n",
      "...    ...   ...  ..     ...     ...\n",
      "3637  2023     1   5  419.37  418.26\n",
      "3638  2023     1   6  419.40  418.27\n",
      "3639  2023     1   7  419.42  418.28\n",
      "3640  2023     1   8  419.44  418.28\n",
      "3641  2023     1   9  419.47  418.29\n",
      "\n",
      "[3642 rows x 5 columns]\n"
     ]
    },
    {
     "data": {
      "text/plain": [
       "['year', 'month', 'day', 'cycle', 'trend']"
      ]
     },
     "execution_count": 13,
     "metadata": {},
     "output_type": "execute_result"
    }
   ],
   "source": [
    "import unittest\n",
    "import pandas as pd\n",
    "df=pd.DataFrame(test['co2'])\n",
    "print(df)\n",
    "list(df.columns)"
   ]
  },
  {
   "cell_type": "code",
   "execution_count": 14,
   "metadata": {},
   "outputs": [
    {
     "data": {
      "text/html": [
       "<div>\n",
       "<style scoped>\n",
       "    .dataframe tbody tr th:only-of-type {\n",
       "        vertical-align: middle;\n",
       "    }\n",
       "\n",
       "    .dataframe tbody tr th {\n",
       "        vertical-align: top;\n",
       "    }\n",
       "\n",
       "    .dataframe thead th {\n",
       "        text-align: right;\n",
       "    }\n",
       "</style>\n",
       "<table border=\"1\" class=\"dataframe\">\n",
       "  <thead>\n",
       "    <tr style=\"text-align: right;\">\n",
       "      <th></th>\n",
       "      <th>year</th>\n",
       "      <th>month</th>\n",
       "      <th>day</th>\n",
       "      <th>cycle</th>\n",
       "      <th>trend</th>\n",
       "    </tr>\n",
       "  </thead>\n",
       "  <tbody>\n",
       "    <tr>\n",
       "      <th>0</th>\n",
       "      <td>2013</td>\n",
       "      <td>1</td>\n",
       "      <td>20</td>\n",
       "      <td>395.64</td>\n",
       "      <td>394.41</td>\n",
       "    </tr>\n",
       "    <tr>\n",
       "      <th>1</th>\n",
       "      <td>2013</td>\n",
       "      <td>1</td>\n",
       "      <td>21</td>\n",
       "      <td>395.67</td>\n",
       "      <td>394.41</td>\n",
       "    </tr>\n",
       "    <tr>\n",
       "      <th>2</th>\n",
       "      <td>2013</td>\n",
       "      <td>1</td>\n",
       "      <td>22</td>\n",
       "      <td>395.70</td>\n",
       "      <td>394.42</td>\n",
       "    </tr>\n",
       "    <tr>\n",
       "      <th>3</th>\n",
       "      <td>2013</td>\n",
       "      <td>1</td>\n",
       "      <td>23</td>\n",
       "      <td>395.73</td>\n",
       "      <td>394.43</td>\n",
       "    </tr>\n",
       "    <tr>\n",
       "      <th>4</th>\n",
       "      <td>2013</td>\n",
       "      <td>1</td>\n",
       "      <td>24</td>\n",
       "      <td>395.75</td>\n",
       "      <td>394.44</td>\n",
       "    </tr>\n",
       "    <tr>\n",
       "      <th>...</th>\n",
       "      <td>...</td>\n",
       "      <td>...</td>\n",
       "      <td>...</td>\n",
       "      <td>...</td>\n",
       "      <td>...</td>\n",
       "    </tr>\n",
       "    <tr>\n",
       "      <th>3637</th>\n",
       "      <td>2023</td>\n",
       "      <td>1</td>\n",
       "      <td>5</td>\n",
       "      <td>419.37</td>\n",
       "      <td>418.26</td>\n",
       "    </tr>\n",
       "    <tr>\n",
       "      <th>3638</th>\n",
       "      <td>2023</td>\n",
       "      <td>1</td>\n",
       "      <td>6</td>\n",
       "      <td>419.40</td>\n",
       "      <td>418.27</td>\n",
       "    </tr>\n",
       "    <tr>\n",
       "      <th>3639</th>\n",
       "      <td>2023</td>\n",
       "      <td>1</td>\n",
       "      <td>7</td>\n",
       "      <td>419.42</td>\n",
       "      <td>418.28</td>\n",
       "    </tr>\n",
       "    <tr>\n",
       "      <th>3640</th>\n",
       "      <td>2023</td>\n",
       "      <td>1</td>\n",
       "      <td>8</td>\n",
       "      <td>419.44</td>\n",
       "      <td>418.28</td>\n",
       "    </tr>\n",
       "    <tr>\n",
       "      <th>3641</th>\n",
       "      <td>2023</td>\n",
       "      <td>1</td>\n",
       "      <td>9</td>\n",
       "      <td>419.47</td>\n",
       "      <td>418.29</td>\n",
       "    </tr>\n",
       "  </tbody>\n",
       "</table>\n",
       "<p>3642 rows × 5 columns</p>\n",
       "</div>"
      ],
      "text/plain": [
       "      year month day   cycle   trend\n",
       "0     2013     1  20  395.64  394.41\n",
       "1     2013     1  21  395.67  394.41\n",
       "2     2013     1  22  395.70  394.42\n",
       "3     2013     1  23  395.73  394.43\n",
       "4     2013     1  24  395.75  394.44\n",
       "...    ...   ...  ..     ...     ...\n",
       "3637  2023     1   5  419.37  418.26\n",
       "3638  2023     1   6  419.40  418.27\n",
       "3639  2023     1   7  419.42  418.28\n",
       "3640  2023     1   8  419.44  418.28\n",
       "3641  2023     1   9  419.47  418.29\n",
       "\n",
       "[3642 rows x 5 columns]"
      ]
     },
     "execution_count": 14,
     "metadata": {},
     "output_type": "execute_result"
    }
   ],
   "source": [
    "col_name=['year',\n",
    " 'month',\n",
    " 'day','cycle','trend']\n",
    "pd.DataFrame(test['co2'],columns=col_name)\n",
    "#df.drop(['year'], axis=1)"
   ]
  }
 ],
 "metadata": {
  "kernelspec": {
   "display_name": "base",
   "language": "python",
   "name": "python3"
  },
  "language_info": {
   "codemirror_mode": {
    "name": "ipython",
    "version": 3
   },
   "file_extension": ".py",
   "mimetype": "text/x-python",
   "name": "python",
   "nbconvert_exporter": "python",
   "pygments_lexer": "ipython3",
   "version": "3.9.7"
  },
  "orig_nbformat": 4,
  "vscode": {
   "interpreter": {
    "hash": "cb873405616b90249736f508600052d97939cff5d91c8aef713f3e3a6788ce3b"
   }
  }
 },
 "nbformat": 4,
 "nbformat_minor": 2
}
